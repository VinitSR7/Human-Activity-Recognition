{
 "cells": [
  {
   "cell_type": "markdown",
   "metadata": {},
   "source": [
    "# HAR prediction with Raw data"
   ]
  },
  {
   "cell_type": "markdown",
   "metadata": {},
   "source": [
    "> Raw data signals<br>\n",
    "> Signals are from Accelerometer and Gyroscope<br>\n",
    "> The signals are in x,y,z directions<br>\n",
    "> Sensor signals are filtered to have only body acceleration<br>\n",
    "> excluding the acceleration due to gravity <br>\n",
    "> Triaxial acceleration from the accelerometer is total acceleration"
   ]
  },
  {
   "cell_type": "code",
   "execution_count": 4,
   "metadata": {},
   "outputs": [],
   "source": [
    "import pandas as pd\n",
    "import numpy as np"
   ]
  },
  {
   "cell_type": "code",
   "execution_count": 5,
   "metadata": {},
   "outputs": [],
   "source": [
    "ACTIVITIES = {\n",
    "    0: 'WALKING',\n",
    "    1: 'WALKING_UPSTAIRS',\n",
    "    2: 'WALKING_DOWNSTAIRS',\n",
    "    3: 'SITTING',\n",
    "    4: 'STANDING',\n",
    "    5: 'LAYING',\n",
    "}"
   ]
  },
  {
   "cell_type": "markdown",
   "metadata": {},
   "source": [
    "### Data\n"
   ]
  },
  {
   "cell_type": "code",
   "execution_count": 6,
   "metadata": {},
   "outputs": [],
   "source": [
    "# Data directory\n",
    "DATADIR = 'UCI HAR Dataset'"
   ]
  },
  {
   "cell_type": "code",
   "execution_count": 8,
   "metadata": {},
   "outputs": [],
   "source": [
    "# SINGALS contains all 9 readings\n",
    "SIGNALS = [\"body_acc_x\",\"body_acc_y\", \"body_acc_z\", \"body_gyro_x\", \"body_gyro_y\", \"body_gyro_z\", \"total_acc_x\", \"total_acc_y\", \"total_acc_z\"]"
   ]
  },
  {
   "cell_type": "code",
   "execution_count": 41,
   "metadata": {},
   "outputs": [],
   "source": [
    "def _read_csv(filename):\n",
    "    print(filename)\n",
    "    return pd.read_csv(filename, delim_whitespace=True, header=None)\n",
    "\n",
    "def load_signals(subset):\n",
    "    signals_data = []\n",
    "\n",
    "    for signal in SIGNALS:\n",
    "        filename = 'UCI HAR Dataset/'+subset+'/Inertial Signals/' + signal +'_'+subset+'.txt'\n",
    "        signals_data.append(_read_csv(filename).as_matrix()) \n",
    "\n",
    "    # Transpose is used to change the dimensionality of the output,\n",
    "    # aggregating the signals by combination of sample/timestep.\n",
    "    # Resultant shape is (7352 train/2947 test samples, 128 timesteps, 9 signals)\n",
    "    return np.transpose(signals_data, (1, 2, 0))\n",
    "\n",
    "\n",
    "def load_y(subset):\n",
    "    \"\"\"\n",
    "    The objective that we are trying to predict is a integer, from 1 to 6,\n",
    "    that represents a human activity. We return a binary representation of \n",
    "    every sample objective as a 6 bits vector using One Hot Encoding\n",
    "    (https://pandas.pydata.org/pandas-docs/stable/generated/pandas.get_dummies.html)\n",
    "    \"\"\"\n",
    "    filename = 'UCI HAR Dataset/' + subset + '/y_'+subset+'.txt'\n",
    "    y = _read_csv(filename)[0]\n",
    "\n",
    "    return pd.get_dummies(y).as_matrix()\n",
    "\n",
    "\n",
    "def load_data():\n",
    "     \n",
    "    X_train, X_test = load_signals('train'), load_signals('test')\n",
    "    y_train, y_test = load_y('train'), load_y('test')\n",
    "\n",
    "    return X_train, X_test, y_train, y_test"
   ]
  },
  {
   "cell_type": "code",
   "execution_count": 42,
   "metadata": {},
   "outputs": [
    {
     "name": "stdout",
     "output_type": "stream",
     "text": [
      "UCI HAR Dataset/train/Inertial Signals/body_acc_x_train.txt\n"
     ]
    },
    {
     "name": "stderr",
     "output_type": "stream",
     "text": [
      "/usr/lib/python3/dist-packages/ipykernel_launcher.py:10: FutureWarning: Method .as_matrix will be removed in a future version. Use .values instead.\n",
      "  # Remove the CWD from sys.path while we load stuff.\n"
     ]
    },
    {
     "name": "stdout",
     "output_type": "stream",
     "text": [
      "UCI HAR Dataset/train/Inertial Signals/body_acc_y_train.txt\n",
      "UCI HAR Dataset/train/Inertial Signals/body_acc_z_train.txt\n",
      "UCI HAR Dataset/train/Inertial Signals/body_gyro_x_train.txt\n",
      "UCI HAR Dataset/train/Inertial Signals/body_gyro_y_train.txt\n",
      "UCI HAR Dataset/train/Inertial Signals/body_gyro_z_train.txt\n",
      "UCI HAR Dataset/train/Inertial Signals/total_acc_x_train.txt\n",
      "UCI HAR Dataset/train/Inertial Signals/total_acc_y_train.txt\n",
      "UCI HAR Dataset/train/Inertial Signals/total_acc_z_train.txt\n",
      "UCI HAR Dataset/test/Inertial Signals/body_acc_x_test.txt\n",
      "UCI HAR Dataset/test/Inertial Signals/body_acc_y_test.txt\n",
      "UCI HAR Dataset/test/Inertial Signals/body_acc_z_test.txt\n",
      "UCI HAR Dataset/test/Inertial Signals/body_gyro_x_test.txt\n",
      "UCI HAR Dataset/test/Inertial Signals/body_gyro_y_test.txt\n",
      "UCI HAR Dataset/test/Inertial Signals/body_gyro_z_test.txt\n",
      "UCI HAR Dataset/test/Inertial Signals/total_acc_x_test.txt\n",
      "UCI HAR Dataset/test/Inertial Signals/total_acc_y_test.txt\n",
      "UCI HAR Dataset/test/Inertial Signals/total_acc_z_test.txt\n",
      "UCI HAR Dataset/train/y_train.txt\n",
      "UCI HAR Dataset/test/y_test.txt\n"
     ]
    },
    {
     "name": "stderr",
     "output_type": "stream",
     "text": [
      "/usr/lib/python3/dist-packages/ipykernel_launcher.py:28: FutureWarning: Method .as_matrix will be removed in a future version. Use .values instead.\n"
     ]
    }
   ],
   "source": [
    "# Loading the train and test data\n",
    "X_train, X_test, Y_train, Y_test = load_data()"
   ]
  },
  {
   "cell_type": "code",
   "execution_count": 43,
   "metadata": {},
   "outputs": [
    {
     "data": {
      "text/plain": [
       "(7352, 128, 9)"
      ]
     },
     "execution_count": 43,
     "metadata": {},
     "output_type": "execute_result"
    }
   ],
   "source": [
    "X_train.shape"
   ]
  },
  {
   "cell_type": "code",
   "execution_count": 28,
   "metadata": {},
   "outputs": [
    {
     "name": "stderr",
     "output_type": "stream",
     "text": [
      "Using TensorFlow backend.\n"
     ]
    }
   ],
   "source": [
    "# Importing libraries\n",
    "from keras.models import Sequential\n",
    "from keras.layers import LSTM\n",
    "from keras.layers.core import Dense, Dropout"
   ]
  },
  {
   "cell_type": "code",
   "execution_count": 29,
   "metadata": {},
   "outputs": [],
   "source": [
    "# Initializing parameters\n",
    "epochs = 30\n",
    "batch_size = 16\n",
    "n_hidden = 32"
   ]
  },
  {
   "cell_type": "code",
   "execution_count": 30,
   "metadata": {},
   "outputs": [],
   "source": [
    "# Utility function to count the number of classes\n",
    "def _count_classes(y):\n",
    "    return len(set([tuple(category) for category in y]))"
   ]
  },
  {
   "cell_type": "code",
   "execution_count": 39,
   "metadata": {},
   "outputs": [
    {
     "name": "stdout",
     "output_type": "stream",
     "text": [
      "128\n",
      "9\n",
      "7352\n"
     ]
    }
   ],
   "source": [
    "timesteps = len(X_train[0])\n",
    "input_dim = len(X_train[0][0])\n",
    "n_classes = _count_classes(Y_train)\n",
    "\n",
    "print(timesteps)\n",
    "print(input_dim)\n",
    "print(len(X_train))"
   ]
  },
  {
   "cell_type": "code",
   "execution_count": 32,
   "metadata": {},
   "outputs": [
    {
     "name": "stdout",
     "output_type": "stream",
     "text": [
      "_________________________________________________________________\n",
      "Layer (type)                 Output Shape              Param #   \n",
      "=================================================================\n",
      "lstm_1 (LSTM)                (None, 32)                5376      \n",
      "_________________________________________________________________\n",
      "dropout_1 (Dropout)          (None, 32)                0         \n",
      "_________________________________________________________________\n",
      "dense_1 (Dense)              (None, 6)                 198       \n",
      "=================================================================\n",
      "Total params: 5,574\n",
      "Trainable params: 5,574\n",
      "Non-trainable params: 0\n",
      "_________________________________________________________________\n"
     ]
    }
   ],
   "source": [
    "# Initiliazing the sequential model\n",
    "model = Sequential()\n",
    "# Configuring the parameters\n",
    "model.add(LSTM(n_hidden, input_shape=(timesteps, input_dim)))\n",
    "# Adding a dropout layer\n",
    "model.add(Dropout(0.5))\n",
    "# Adding a dense output layer with sigmoid activation\n",
    "model.add(Dense(n_classes, activation='sigmoid'))\n",
    "model.summary()"
   ]
  },
  {
   "cell_type": "code",
   "execution_count": 33,
   "metadata": {},
   "outputs": [],
   "source": [
    "# Compiling the model\n",
    "model.compile(loss='categorical_crossentropy',\n",
    "              optimizer='adam',\n",
    "              metrics=['accuracy'])"
   ]
  },
  {
   "cell_type": "code",
   "execution_count": 34,
   "metadata": {},
   "outputs": [
    {
     "name": "stdout",
     "output_type": "stream",
     "text": [
      "Train on 7352 samples, validate on 2947 samples\n",
      "Epoch 1/30\n",
      "7352/7352 [==============================] - 115s 16ms/step - loss: 1.3454 - acc: 0.4230 - val_loss: 1.2356 - val_acc: 0.4418\n",
      "Epoch 2/30\n",
      "7352/7352 [==============================] - 97s 13ms/step - loss: 1.0921 - acc: 0.5174 - val_loss: 1.0640 - val_acc: 0.5531\n",
      "Epoch 3/30\n",
      "7352/7352 [==============================] - 63s 9ms/step - loss: 0.8938 - acc: 0.6128 - val_loss: 0.8815 - val_acc: 0.6230\n",
      "Epoch 4/30\n",
      "7352/7352 [==============================] - 62s 8ms/step - loss: 0.7459 - acc: 0.6601 - val_loss: 0.8630 - val_acc: 0.6535\n",
      "Epoch 5/30\n",
      "7352/7352 [==============================] - 62s 8ms/step - loss: 0.6431 - acc: 0.7304 - val_loss: 0.6994 - val_acc: 0.7520\n",
      "Epoch 6/30\n",
      "7352/7352 [==============================] - 62s 8ms/step - loss: 0.5928 - acc: 0.7731 - val_loss: 0.6684 - val_acc: 0.7917\n",
      "Epoch 7/30\n",
      "7352/7352 [==============================] - 63s 9ms/step - loss: 0.5054 - acc: 0.8203 - val_loss: 0.5469 - val_acc: 0.8256\n",
      "Epoch 8/30\n",
      "7352/7352 [==============================] - 62s 8ms/step - loss: 0.4587 - acc: 0.8458 - val_loss: 0.5136 - val_acc: 0.8521\n",
      "Epoch 9/30\n",
      "7352/7352 [==============================] - 62s 8ms/step - loss: 0.4090 - acc: 0.8721 - val_loss: 0.4756 - val_acc: 0.8548\n",
      "Epoch 10/30\n",
      "7352/7352 [==============================] - 62s 8ms/step - loss: 0.3441 - acc: 0.8904 - val_loss: 0.5397 - val_acc: 0.8395\n",
      "Epoch 11/30\n",
      "7352/7352 [==============================] - 62s 8ms/step - loss: 0.3525 - acc: 0.8955 - val_loss: 0.4990 - val_acc: 0.8649\n",
      "Epoch 12/30\n",
      "7352/7352 [==============================] - 61s 8ms/step - loss: 0.3026 - acc: 0.9063 - val_loss: 0.6308 - val_acc: 0.8493\n",
      "Epoch 13/30\n",
      "7352/7352 [==============================] - 63s 9ms/step - loss: 0.3183 - acc: 0.9078 - val_loss: 0.5699 - val_acc: 0.8412\n",
      "Epoch 14/30\n",
      "7352/7352 [==============================] - 62s 8ms/step - loss: 0.2724 - acc: 0.9202 - val_loss: 0.5906 - val_acc: 0.8605\n",
      "Epoch 15/30\n",
      "7352/7352 [==============================] - 63s 9ms/step - loss: 0.2439 - acc: 0.9192 - val_loss: 0.5117 - val_acc: 0.8768\n",
      "Epoch 16/30\n",
      "7352/7352 [==============================] - 62s 8ms/step - loss: 0.2190 - acc: 0.9249 - val_loss: 0.3078 - val_acc: 0.9019\n",
      "Epoch 17/30\n",
      "7352/7352 [==============================] - 62s 8ms/step - loss: 0.2032 - acc: 0.9338 - val_loss: 0.3343 - val_acc: 0.9050\n",
      "Epoch 18/30\n",
      "7352/7352 [==============================] - 63s 9ms/step - loss: 0.2554 - acc: 0.9253 - val_loss: 0.3050 - val_acc: 0.9077\n",
      "Epoch 19/30\n",
      "7352/7352 [==============================] - 62s 8ms/step - loss: 0.1839 - acc: 0.9372 - val_loss: 0.4937 - val_acc: 0.8826\n",
      "Epoch 20/30\n",
      "7352/7352 [==============================] - 62s 8ms/step - loss: 0.1749 - acc: 0.9385 - val_loss: 0.2583 - val_acc: 0.8935\n",
      "Epoch 21/30\n",
      "7352/7352 [==============================] - 43s 6ms/step - loss: 0.1902 - acc: 0.9376 - val_loss: 0.3590 - val_acc: 0.8907\n",
      "Epoch 22/30\n",
      "7352/7352 [==============================] - 29s 4ms/step - loss: 0.1843 - acc: 0.9373 - val_loss: 0.3122 - val_acc: 0.9084\n",
      "Epoch 23/30\n",
      "7352/7352 [==============================] - 29s 4ms/step - loss: 0.3178 - acc: 0.9226 - val_loss: 1.9646 - val_acc: 0.6135\n",
      "Epoch 24/30\n",
      "7352/7352 [==============================] - 29s 4ms/step - loss: 0.5517 - acc: 0.8485 - val_loss: 0.2593 - val_acc: 0.9026\n",
      "Epoch 25/30\n",
      "7352/7352 [==============================] - 29s 4ms/step - loss: 0.2004 - acc: 0.9316 - val_loss: 0.3518 - val_acc: 0.8884\n",
      "Epoch 26/30\n",
      "7352/7352 [==============================] - 29s 4ms/step - loss: 0.1740 - acc: 0.9385 - val_loss: 0.2743 - val_acc: 0.9023\n",
      "Epoch 27/30\n",
      "7352/7352 [==============================] - 29s 4ms/step - loss: 0.1680 - acc: 0.9400 - val_loss: 0.3261 - val_acc: 0.9067\n",
      "Epoch 28/30\n",
      "7352/7352 [==============================] - 29s 4ms/step - loss: 0.1565 - acc: 0.9423 - val_loss: 0.3041 - val_acc: 0.9135\n",
      "Epoch 29/30\n",
      "7352/7352 [==============================] - 29s 4ms/step - loss: 0.1615 - acc: 0.9434 - val_loss: 0.3621 - val_acc: 0.9040\n",
      "Epoch 30/30\n",
      "7352/7352 [==============================] - 29s 4ms/step - loss: 0.1827 - acc: 0.9358 - val_loss: 0.2959 - val_acc: 0.9033\n"
     ]
    },
    {
     "data": {
      "text/plain": [
       "<keras.callbacks.History at 0x7fc165e99be0>"
      ]
     },
     "execution_count": 34,
     "metadata": {},
     "output_type": "execute_result"
    }
   ],
   "source": [
    "# Training the model\n",
    "model.fit(X_train,\n",
    "          Y_train,\n",
    "          batch_size=batch_size,\n",
    "          validation_data=(X_test, Y_test),\n",
    "          epochs=epochs)"
   ]
  },
  {
   "cell_type": "code",
   "execution_count": 35,
   "metadata": {},
   "outputs": [
    {
     "name": "stdout",
     "output_type": "stream",
     "text": [
      "Pred                LAYING  SITTING  STANDING  WALKING  WALKING_DOWNSTAIRS  \\\n",
      "True                                                                         \n",
      "LAYING                 536        1         0        0                   0   \n",
      "SITTING                  0      374       114        1                   0   \n",
      "STANDING                 0       95       435        2                   0   \n",
      "WALKING                  0        0         0      471                   5   \n",
      "WALKING_DOWNSTAIRS       0        0         0        3                 414   \n",
      "WALKING_UPSTAIRS         0        1         0       18                  20   \n",
      "\n",
      "Pred                WALKING_UPSTAIRS  \n",
      "True                                  \n",
      "LAYING                             0  \n",
      "SITTING                            2  \n",
      "STANDING                           0  \n",
      "WALKING                           20  \n",
      "WALKING_DOWNSTAIRS                 3  \n",
      "WALKING_UPSTAIRS                 432  \n"
     ]
    }
   ],
   "source": [
    "# Confusion Matrix\n",
    "\n",
    "def confusion_matrix(Y_true, Y_pred):\n",
    "    Y_true = pd.Series([ACTIVITIES[y] for y in np.argmax(Y_true, axis=1)])\n",
    "    Y_pred = pd.Series([ACTIVITIES[y] for y in np.argmax(Y_pred, axis=1)])\n",
    "\n",
    "    return pd.crosstab(Y_true, Y_pred, rownames=['True'], colnames=['Pred'])\n",
    "\n",
    "print(confusion_matrix(Y_test, model.predict(X_test)))"
   ]
  },
  {
   "cell_type": "code",
   "execution_count": 36,
   "metadata": {},
   "outputs": [
    {
     "name": "stdout",
     "output_type": "stream",
     "text": [
      "2947/2947 [==============================] - 1s 340us/step\n"
     ]
    }
   ],
   "source": [
    "score = model.evaluate(X_test, Y_test)"
   ]
  },
  {
   "cell_type": "code",
   "execution_count": 37,
   "metadata": {},
   "outputs": [
    {
     "data": {
      "text/plain": [
       "[0.29589248642329097, 0.9032914828639295]"
      ]
     },
     "execution_count": 37,
     "metadata": {},
     "output_type": "execute_result"
    }
   ],
   "source": [
    "score"
   ]
  },
  {
   "cell_type": "markdown",
   "metadata": {},
   "source": [
    "- With a simple 2 layer architecture we got 90.09% accuracy and a loss of 0.30\n",
    "- We can further imporve the performace with Hyperparameter tuning"
   ]
  },
  {
   "cell_type": "code",
   "execution_count": null,
   "metadata": {},
   "outputs": [],
   "source": []
  }
 ],
 "metadata": {
  "kernelspec": {
   "display_name": "Python 3",
   "language": "python",
   "name": "python3"
  },
  "language_info": {
   "codemirror_mode": {
    "name": "ipython",
    "version": 3
   },
   "file_extension": ".py",
   "mimetype": "text/x-python",
   "name": "python",
   "nbconvert_exporter": "python",
   "pygments_lexer": "ipython3",
   "version": "3.6.7"
  }
 },
 "nbformat": 4,
 "nbformat_minor": 2
}
